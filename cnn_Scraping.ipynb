{
 "cells": [
  {
   "cell_type": "markdown",
   "id": "5d93c3f8",
   "metadata": {},
   "source": [
    "# Automatic Scrape of CNN's Climate News\n",
    "\n",
    "https://www.cnn.com/specials/world/cnn-climate\n"
   ]
  },
  {
   "cell_type": "code",
   "execution_count": 20,
   "id": "9e86c27e",
   "metadata": {},
   "outputs": [],
   "source": [
    "import requests\n",
    "from bs4 import BeautifulSoup\n",
    "import pandas as pd"
   ]
  },
  {
   "cell_type": "code",
   "execution_count": 21,
   "id": "eeab79c7",
   "metadata": {},
   "outputs": [],
   "source": [
    "response = requests.get(\"https://www.cnn.com/specials/world/cnn-climate\")\n",
    "doc = BeautifulSoup(response.text)"
   ]
  },
  {
   "cell_type": "code",
   "execution_count": 23,
   "id": "1a5d39f0",
   "metadata": {},
   "outputs": [
    {
     "data": {
      "text/plain": [
       "[<h3 class=\"cd__headline\" data-analytics=\"_list-hierarchical-small-horizontal_article_\"><a href=\"/2021/06/17/us/lake-mead-drought-water-shortage-climate/index.html\"><span class=\"cd__headline-text vid-left-enabled\"><strong>The shocking numbers behind the Lake Mead drought crisis</strong></span><span class=\"cd__headline-icon cnn-icon\"></span></a></h3>,\n",
       " <h3 class=\"cd__headline\" data-analytics=\"_list-hierarchical-small-horizontal_article_\"><a href=\"/2021/06/17/weather/west-california-drought-maps/index.html\"><span class=\"cd__headline-text vid-left-enabled\">The West's historic drought in 3 maps</span><span class=\"cd__headline-icon cnn-icon\"></span></a></h3>,\n",
       " <h3 class=\"cd__headline\" data-analytics=\"_list-hierarchical-small-horizontal_article_\"><a href=\"/2021/06/16/weather/west-heat-wave-records-drought-climate/index.html\"><span class=\"cd__headline-text vid-left-enabled\">An eighth of the US population is sweltering under a record-breaking heat dome. Climate change is making it worse</span><span class=\"cd__headline-icon cnn-icon\"></span></a></h3>,\n",
       " <h3 class=\"cd__headline\" data-analytics=\"_list-hierarchical-xs_article_\"><a href=\"/2021/04/12/opinions/climate-migration-in-america-california-duluth-sutter/index.html\"><span class=\"cd__headline-text vid-left-enabled\"><strong>As people flee climate change on the coasts, this Midwest city is trying to become a safe haven</strong></span><span class=\"cd__headline-icon cnn-icon\"></span></a></h3>,\n",
       " <h3 class=\"cd__headline\" data-analytics=\"_list-hierarchical-xs_article_\"><a href=\"/2021/06/14/investing/climate-change-disclosure-sec-california/index.html\"><span class=\"cd__headline-text vid-left-enabled\">Exclusive: Companies face a financial risk from the climate crisis. States want them to reveal just how much</span><span class=\"cd__headline-icon cnn-icon\"></span></a></h3>,\n",
       " <h3 class=\"cd__headline\" data-analytics=\"_list-hierarchical-xs_article_\"><a href=\"/2021/06/14/us/rocky-mountain-fires-getting-worse/index.html\"><span class=\"cd__headline-text vid-left-enabled\">High-elevation forests in the Rockies are burning more now than in the past 2,000 years</span><span class=\"cd__headline-icon cnn-icon\"></span></a></h3>,\n",
       " <h3 class=\"cd__headline\" data-analytics=\"_list-hierarchical-xs_article_\"><a href=\"/2021/02/22/business/flood-insurance-climate-change-risk-first-street-foundation/index.html\"><span class=\"cd__headline-text vid-left-enabled\">Flood risk is growing for US homeowners due to climate change. Current insurance rates greatly underestimate the threat, a new report finds</span><span class=\"cd__headline-icon cnn-icon\"></span></a></h3>,\n",
       " <h3 class=\"cd__headline\" data-analytics=\"_list-hierarchical-xs_hyperlink_\"><a data-vr-track=\"\" href=\"https://www.instagram.com/cnnclimate/\"><span class=\"cd__headline-text vid-left-enabled\">Follow<strong> @CNNclimate </strong>on Instagram</span><span class=\"cd__headline-icon cnn-icon\"></span></a></h3>,\n",
       " <h3 class=\"cd__headline\" data-analytics=\"_list-small-vertical-3x4_hyperlink_\"><a href=\"https://edition.cnn.com/interactive/2020/09/world/climate-covid-money-intl/\"><span class=\"cd__headline-text vid-left-enabled\"><strong>The pandemic was the one chance we had</strong></span><span class=\"cd__headline-icon cnn-icon\"></span></a></h3>,\n",
       " <h3 class=\"cd__headline\" data-analytics=\"_list-small-vertical-3x4_article_\"><a href=\"/2019/09/04/weather/climate-change-skeptic/index.html\"><span class=\"cd__headline-text vid-left-enabled\">I am a CNN meteorologist. I used to be a climate crisis skeptic</span><span class=\"cd__headline-icon cnn-icon\"></span></a></h3>,\n",
       " <h3 class=\"cd__headline\" data-analytics=\"Call To Earth_list-hierarchical-small-horizontal_article_\"><a href=\"/2021/02/18/world/erika-woolsey-vr-dive-hydrous-immerse-spc-intl/index.html\"><span class=\"cd__headline-text vid-left-enabled\">A marine biologist is using virtual reality to bring people closer to the ocean</span><span class=\"cd__headline-icon cnn-icon\"></span></a></h3>,\n",
       " <h3 class=\"cd__headline\" data-analytics=\"Call To Earth_list-hierarchical-small-horizontal_article_\"><a href=\"/2021/02/09/world/cte-brad-norman-whale-sharks-scn-spc-intl-hnk/index.html\"><span class=\"cd__headline-text vid-left-enabled\">How NASA technology can help save whale sharks -- the world's largest fish</span><span class=\"cd__headline-icon cnn-icon\"></span></a></h3>,\n",
       " <h3 class=\"cd__headline\" data-analytics=\"Call To Earth_list-hierarchical-small-horizontal_article_\"><a href=\"/travel/article/roberto-pedraza-ruiz-mexico-photography-c2e-hnk-spc-intl/index.html\"><span class=\"cd__headline-text vid-left-enabled\">Growing up wild: this photographer captures the beauty of Mexico's mountains </span><span class=\"cd__headline-icon cnn-icon\"></span></a></h3>,\n",
       " <h3 class=\"cd__headline\" data-analytics=\"The crisis and its solutions_list-hierarchical-xs_hyperlink_\"><a href=\"https://www.cnn.com/interactive/2019/09/world/climate-questions-answered/index.html\"><span class=\"cd__headline-text vid-left-enabled\">We asked scientists to help answer your most pressing climate questions</span><span class=\"cd__headline-icon cnn-icon\"></span></a></h3>,\n",
       " <h3 class=\"cd__headline\" data-analytics=\"The crisis and its solutions_list-hierarchical-xs_hyperlink_\"><a href=\"https://www.cnn.com/interactive/2019/04/specials/climate-change-solutions-quiz/index.html\"><span class=\"cd__headline-text vid-left-enabled\">Quiz: The most effective ways to curb climate change may surprise you</span><span class=\"cd__headline-icon cnn-icon\"></span></a></h3>,\n",
       " <h3 class=\"cd__headline\" data-analytics=\"The crisis and its solutions_list-hierarchical-xs_article_\"><a href=\"/2019/09/04/us/climate-change-science-101-basics/index.html\"><span class=\"cd__headline-text vid-left-enabled\">The science behind the climate crisis</span><span class=\"cd__headline-icon cnn-icon\"></span></a></h3>,\n",
       " <h3 class=\"cd__headline\" data-analytics=\"The crisis and its solutions_list-hierarchical-xs_hyperlink_\"><a data-vr-track=\"\" href=\"https://www.instagram.com/cnnclimate/\"><span class=\"cd__headline-text vid-left-enabled\"><strong>@CNNclimate on Instagram: </strong>What's working to create solutions and change habits</span><span class=\"cd__headline-icon cnn-icon\"></span></a></h3>,\n",
       " <h3 class=\"cd__headline\" data-analytics=\"Signs of climate change_list-hierarchical-xs_hyperlink_\"><a href=\"https://www.cnn.com/interactive/2019/09/world/climate-change-before-after/\"><span class=\"cd__headline-text vid-left-enabled\">This is how the planet has changed over time </span><span class=\"cd__headline-icon cnn-icon\"></span></a></h3>,\n",
       " <h3 class=\"cd__headline\" data-analytics=\"Signs of climate change_list-hierarchical-xs_article_\"><a href=\"/2019/07/10/world/antarctica-ice-sheet-sea-levels-trnd/index.html\"><span class=\"cd__headline-text vid-left-enabled\">Ice sheets are crumbling faster than we thought</span><span class=\"cd__headline-icon cnn-icon\"></span></a></h3>,\n",
       " <h3 class=\"cd__headline\" data-analytics=\"Signs of climate change_list-hierarchical-xs_article_\"><a href=\"/2019/07/11/europe/climate-cities-report-intl-hnk/index.html\"><span class=\"cd__headline-text vid-left-enabled\">London's climate will be as warm as Barcelona's by 2050</span><span class=\"cd__headline-icon cnn-icon\"></span></a></h3>,\n",
       " <h3 class=\"cd__headline\" data-analytics=\"Signs of climate change_list-hierarchical-xs_article_\"><a href=\"/2019/06/28/us/alaska-sea-ice-wxc/index.html\"><span class=\"cd__headline-text vid-left-enabled\">Sea temperatures are abnormally high in Alaska</span><span class=\"cd__headline-icon cnn-icon\"></span></a></h3>,\n",
       " <h3 class=\"cd__headline\" data-analytics=\"Signs of climate change_list-hierarchical-xs_article_\"><a href=\"/2019/02/12/health/climate-change-cities-projected-temperatures-study/index.html\"><span class=\"cd__headline-text vid-left-enabled\">What will your city's weather feel like in 60 years? </span><span class=\"cd__headline-icon cnn-icon\"></span></a></h3>,\n",
       " <h3 class=\"cd__headline\" data-analytics=\"Taking action_list-hierarchical-xs_hyperlink_\"><a data-vr-track=\"\" href=\"https://www.greatbigstory.com/stories/the-brave-young-activist\"><span class=\"cd__headline-text vid-left-enabled\">The teen schooling world leaders on climate change</span><span class=\"cd__headline-icon cnn-icon\"></span></a></h3>,\n",
       " <h3 class=\"cd__headline\" data-analytics=\"Taking action_list-hierarchical-xs_video_video\"><a href=\"/videos/tv/2019/04/18/iyw-small-space-living.cnn\"><span class=\"cd__headline-text vid-left-enabled\">Living big and eco-friendly in a small space</span><span class=\"cd__headline-icon cnn-icon\"></span></a></h3>,\n",
       " <h3 class=\"cd__headline\" data-analytics=\"Taking action_list-hierarchical-xs_article_\"><a href=\"/2019/09/28/world/youth-environment-activists-greta-thunberg-trnd/index.html\"><span class=\"cd__headline-text vid-left-enabled\">Greta Thunberg isn't alone. Meet some other young activists who are leading the environmentalist fight</span><span class=\"cd__headline-icon cnn-icon\"></span></a></h3>,\n",
       " <h3 class=\"cd__headline\" data-analytics=\"Taking action_list-hierarchical-xs_video_video\"><a href=\"/videos/tv/2019/02/01/amanpour-greta-thunberg.cnn\"><span class=\"cd__headline-text vid-left-enabled\">Climate activist: No gray area for survival</span><span class=\"cd__headline-icon cnn-icon\"></span></a></h3>,\n",
       " <h3 class=\"cd__headline\" data-analytics=\"Taking action_list-hierarchical-xs_article_\"><a href=\"/2019/03/12/world/trashtag-internet-challenge-intl/index.html\"><span class=\"cd__headline-text vid-left-enabled\">#trashtag: Viral challenge sends internet on a garbage hunt</span><span class=\"cd__headline-icon cnn-icon\"></span></a></h3>,\n",
       " <h3 class=\"cd__headline\" data-analytics=\"Taking action_list-hierarchical-xs_video_video\"><a href=\"/videos/world/2019/03/15/greta-thunberg-climate-strike.cnn\"><span class=\"cd__headline-text vid-left-enabled\">Inspiration behind global protests</span><span class=\"cd__headline-icon cnn-icon\"></span></a></h3>,\n",
       " <h3 class=\"cd__headline\" data-analytics=\"Climate change, explained_grid-small_article_\"><a href=\"/2019/09/04/us/climate-change-science-101-basics/index.html\"><span class=\"cd__headline-text vid-left-enabled\">The science behind the climate crisis</span><span class=\"cd__headline-icon cnn-icon\"></span></a></h3>,\n",
       " <h3 class=\"cd__headline\" data-analytics=\"Climate change, explained_grid-small_video_video\"><a href=\"/videos/weather/2018/12/10/climate-change-myths-explainer-wx-ncc-orig-llr.cnn\"><span class=\"cd__headline-text vid-left-enabled\">Don't believe these climate change lies</span><span class=\"cd__headline-icon cnn-icon\"></span></a></h3>,\n",
       " <h3 class=\"cd__headline\" data-analytics=\"Climate change, explained_grid-small_video_video\"><a href=\"/videos/weather/2018/01/18/nasa-climate-change-report-2018-gray-orig-js.cnn\"><span class=\"cd__headline-text vid-left-enabled\">Undeniable climate change facts (2018)</span><span class=\"cd__headline-icon cnn-icon\"></span></a></h3>,\n",
       " <h3 class=\"cd__headline\" data-analytics=\"Climate change, explained_grid-small_hyperlink_\"><a href=\"https://www.cnn.com/2017/02/28/us/sutter-climate-opinion-maps/index.html\"><span class=\"cd__headline-text vid-left-enabled\">The geographic guide to American climate confusion</span><span class=\"cd__headline-icon cnn-icon\"></span></a></h3>,\n",
       " <h3 class=\"cd__headline\" data-analytics=\"Climate change, explained_grid-small_gallery_gallery\"><a href=\"/2014/09/24/world/gallery/climate-change-impact/index.html\"><span class=\"cd__headline-text vid-left-enabled\">Effects of global warming around the world</span><span class=\"cd__headline-icon cnn-icon\"></span></a></h3>,\n",
       " <h3 class=\"cd__headline\" data-analytics=\"Climate change, explained_grid-small_article_\"><a href=\"/2017/05/15/world/climate-damaging-foods/index.html\"><span class=\"cd__headline-text vid-left-enabled\">These are the most climate-damaging foods </span><span class=\"cd__headline-icon cnn-icon\"></span></a></h3>,\n",
       " <h3 class=\"cd__headline\" data-analytics=\"Weather_list-small-vertical_hyperlink_\"><a href=\"https://www.cnn.com/weather\"><span class=\"cd__headline-text vid-left-enabled\">Your personal forecast</span><span class=\"cd__headline-icon cnn-icon\"></span></a></h3>,\n",
       " <h3 class=\"cd__headline\" data-analytics=\"Weather_list-small-vertical_hyperlink_\"><a href=\"https://www.cnn.com/interactive/storm-tracker/\"><span class=\"cd__headline-text vid-left-enabled\">Follow this season's major storms</span><span class=\"cd__headline-icon cnn-icon\"></span></a></h3>,\n",
       " <h3 class=\"cd__headline\" data-analytics=\"_list-small-vertical-1x1_hyperlink_\"><a href=\"http://www.cnn.com/specials/opinions/two-degrees\"><span class=\"cd__headline-text vid-left-enabled\">2 degrees: Key to climate change</span><span class=\"cd__headline-icon cnn-icon\"></span></a></h3>,\n",
       " <h3 class=\"cd__headline\" data-analytics=\"_list-small-vertical-1x1_hyperlink_\"><a href=\"https://www.cnn.com/interactive/2017/11/world/greenland-global-warning/\"><span class=\"cd__headline-text vid-left-enabled\">Melting glaciers may someday flood your city</span><span class=\"cd__headline-icon cnn-icon\"></span></a></h3>,\n",
       " <h3 class=\"cd__headline\" data-analytics=\"_list-small-vertical-1x1_hyperlink_\"><a href=\"https://www.cnn.com/interactive/2018/06/world/antarctica/\"><span class=\"cd__headline-text vid-left-enabled\">Protecting the Antarctic</span><span class=\"cd__headline-icon cnn-icon\"></span></a></h3>,\n",
       " <h3 class=\"cd__headline\" data-analytics=\"_list-small-vertical-1x1_hyperlink_\"><a href=\"https://www.cnn.com/interactive/2018/08/world/great-barrier-reef/\"><span class=\"cd__headline-text vid-left-enabled\">Great Barrier Reef headed for 'massive death'</span><span class=\"cd__headline-icon cnn-icon\"></span></a></h3>,\n",
       " <h3 class=\"cd__headline\" data-analytics=\"_list-small-vertical-1x1_hyperlink_\"><a href=\"https://edition.cnn.com/interactive/2020/05/africa/locusts/\"><span class=\"cd__headline-text vid-left-enabled\">New generation of hungry locusts threatens millions</span><span class=\"cd__headline-icon cnn-icon\"></span></a></h3>,\n",
       " <h3 class=\"cd__headline\" data-analytics=\"_list-small-vertical-1x1_hyperlink_\"><a href=\"https://www.cnn.com/interactive/2018/09/world/greenland-climate-change-cnnphotos/\"><span class=\"cd__headline-text vid-left-enabled\">What it's like at the ground zero of climate change</span><span class=\"cd__headline-icon cnn-icon\"></span></a></h3>]"
      ]
     },
     "execution_count": 23,
     "metadata": {},
     "output_type": "execute_result"
    }
   ],
   "source": [
    "# Grab all of the headline titles\n",
    "# Make sure to just copy paste from the website .media__title \n",
    "titles = doc.select(\".cd__headline\")\n",
    "titles"
   ]
  },
  {
   "cell_type": "code",
   "execution_count": 47,
   "id": "21bc0219",
   "metadata": {},
   "outputs": [
    {
     "data": {
      "text/plain": [
       "'/2021/06/17/us/lake-mead-drought-water-shortage-climate/index.html'"
      ]
     },
     "execution_count": 47,
     "metadata": {},
     "output_type": "execute_result"
    }
   ],
   "source": [
    "titles[0].a['href']"
   ]
  },
  {
   "cell_type": "code",
   "execution_count": 24,
   "id": "0c4d8131",
   "metadata": {},
   "outputs": [
    {
     "name": "stdout",
     "output_type": "stream",
     "text": [
      "The shocking numbers behind the Lake Mead drought crisis\n",
      "The West's historic drought in 3 maps\n",
      "An eighth of the US population is sweltering under a record-breaking heat dome. Climate change is making it worse\n",
      "As people flee climate change on the coasts, this Midwest city is trying to become a safe haven\n",
      "Exclusive: Companies face a financial risk from the climate crisis. States want them to reveal just how much\n",
      "High-elevation forests in the Rockies are burning more now than in the past 2,000 years\n",
      "Flood risk is growing for US homeowners due to climate change. Current insurance rates greatly underestimate the threat, a new report finds\n",
      "Follow @CNNclimate on Instagram\n",
      "The pandemic was the one chance we had\n",
      "I am a CNN meteorologist. I used to be a climate crisis skeptic\n",
      "A marine biologist is using virtual reality to bring people closer to the ocean\n",
      "How NASA technology can help save whale sharks -- the world's largest fish\n",
      "Growing up wild: this photographer captures the beauty of Mexico's mountains\n",
      "We asked scientists to help answer your most pressing climate questions\n",
      "Quiz: The most effective ways to curb climate change may surprise you\n",
      "The science behind the climate crisis\n",
      "@CNNclimate on Instagram: What's working to create solutions and change habits\n",
      "This is how the planet has changed over time\n",
      "Ice sheets are crumbling faster than we thought\n",
      "London's climate will be as warm as Barcelona's by 2050\n",
      "Sea temperatures are abnormally high in Alaska\n",
      "What will your city's weather feel like in 60 years?\n",
      "The teen schooling world leaders on climate change\n",
      "Living big and eco-friendly in a small space\n",
      "Greta Thunberg isn't alone. Meet some other young activists who are leading the environmentalist fight\n",
      "Climate activist: No gray area for survival\n",
      "#trashtag: Viral challenge sends internet on a garbage hunt\n",
      "Inspiration behind global protests\n",
      "The science behind the climate crisis\n",
      "Don't believe these climate change lies\n",
      "Undeniable climate change facts (2018)\n",
      "The geographic guide to American climate confusion\n",
      "Effects of global warming around the world\n",
      "These are the most climate-damaging foods\n",
      "Your personal forecast\n",
      "Follow this season's major storms\n",
      "2 degrees: Key to climate change\n",
      "Melting glaciers may someday flood your city\n",
      "Protecting the Antarctic\n",
      "Great Barrier Reef headed for 'massive death'\n",
      "New generation of hungry locusts threatens millions\n",
      "What it's like at the ground zero of climate change\n"
     ]
    }
   ],
   "source": [
    "for title in titles:\n",
    "    print(title.text.strip())"
   ]
  },
  {
   "cell_type": "code",
   "execution_count": 37,
   "id": "775bed05",
   "metadata": {},
   "outputs": [
    {
     "data": {
      "text/plain": [
       "[<a href=\"/2021/06/17/us/lake-mead-drought-water-shortage-climate/index.html\"><span class=\"cd__headline-text vid-left-enabled\"><strong>The shocking numbers behind the Lake Mead drought crisis</strong></span><span class=\"cd__headline-icon cnn-icon\"></span></a>,\n",
       " <a href=\"/2021/06/17/weather/west-california-drought-maps/index.html\"><span class=\"cd__headline-text vid-left-enabled\">The West's historic drought in 3 maps</span><span class=\"cd__headline-icon cnn-icon\"></span></a>,\n",
       " <a href=\"/2021/06/16/weather/west-heat-wave-records-drought-climate/index.html\"><span class=\"cd__headline-text vid-left-enabled\">An eighth of the US population is sweltering under a record-breaking heat dome. Climate change is making it worse</span><span class=\"cd__headline-icon cnn-icon\"></span></a>,\n",
       " <a href=\"/2021/04/12/opinions/climate-migration-in-america-california-duluth-sutter/index.html\"><span class=\"cd__headline-text vid-left-enabled\"><strong>As people flee climate change on the coasts, this Midwest city is trying to become a safe haven</strong></span><span class=\"cd__headline-icon cnn-icon\"></span></a>,\n",
       " <a href=\"/2021/06/14/investing/climate-change-disclosure-sec-california/index.html\"><span class=\"cd__headline-text vid-left-enabled\">Exclusive: Companies face a financial risk from the climate crisis. States want them to reveal just how much</span><span class=\"cd__headline-icon cnn-icon\"></span></a>,\n",
       " <a href=\"/2021/06/14/us/rocky-mountain-fires-getting-worse/index.html\"><span class=\"cd__headline-text vid-left-enabled\">High-elevation forests in the Rockies are burning more now than in the past 2,000 years</span><span class=\"cd__headline-icon cnn-icon\"></span></a>,\n",
       " <a href=\"/2021/02/22/business/flood-insurance-climate-change-risk-first-street-foundation/index.html\"><span class=\"cd__headline-text vid-left-enabled\">Flood risk is growing for US homeowners due to climate change. Current insurance rates greatly underestimate the threat, a new report finds</span><span class=\"cd__headline-icon cnn-icon\"></span></a>,\n",
       " <a data-vr-track=\"\" href=\"https://www.instagram.com/cnnclimate/\"><span class=\"cd__headline-text vid-left-enabled\">Follow<strong> @CNNclimate </strong>on Instagram</span><span class=\"cd__headline-icon cnn-icon\"></span></a>,\n",
       " <a href=\"https://edition.cnn.com/interactive/2020/09/world/climate-covid-money-intl/\"><span class=\"cd__headline-text vid-left-enabled\"><strong>The pandemic was the one chance we had</strong></span><span class=\"cd__headline-icon cnn-icon\"></span></a>,\n",
       " <a href=\"/2019/09/04/weather/climate-change-skeptic/index.html\"><span class=\"cd__headline-text vid-left-enabled\">I am a CNN meteorologist. I used to be a climate crisis skeptic</span><span class=\"cd__headline-icon cnn-icon\"></span></a>,\n",
       " <a href=\"/2021/02/18/world/erika-woolsey-vr-dive-hydrous-immerse-spc-intl/index.html\"><span class=\"cd__headline-text vid-left-enabled\">A marine biologist is using virtual reality to bring people closer to the ocean</span><span class=\"cd__headline-icon cnn-icon\"></span></a>,\n",
       " <a href=\"/2021/02/09/world/cte-brad-norman-whale-sharks-scn-spc-intl-hnk/index.html\"><span class=\"cd__headline-text vid-left-enabled\">How NASA technology can help save whale sharks -- the world's largest fish</span><span class=\"cd__headline-icon cnn-icon\"></span></a>,\n",
       " <a href=\"/travel/article/roberto-pedraza-ruiz-mexico-photography-c2e-hnk-spc-intl/index.html\"><span class=\"cd__headline-text vid-left-enabled\">Growing up wild: this photographer captures the beauty of Mexico's mountains </span><span class=\"cd__headline-icon cnn-icon\"></span></a>,\n",
       " <a href=\"https://www.cnn.com/interactive/2019/09/world/climate-questions-answered/index.html\"><span class=\"cd__headline-text vid-left-enabled\">We asked scientists to help answer your most pressing climate questions</span><span class=\"cd__headline-icon cnn-icon\"></span></a>,\n",
       " <a href=\"https://www.cnn.com/interactive/2019/04/specials/climate-change-solutions-quiz/index.html\"><span class=\"cd__headline-text vid-left-enabled\">Quiz: The most effective ways to curb climate change may surprise you</span><span class=\"cd__headline-icon cnn-icon\"></span></a>,\n",
       " <a href=\"/2019/09/04/us/climate-change-science-101-basics/index.html\"><span class=\"cd__headline-text vid-left-enabled\">The science behind the climate crisis</span><span class=\"cd__headline-icon cnn-icon\"></span></a>,\n",
       " <a data-vr-track=\"\" href=\"https://www.instagram.com/cnnclimate/\"><span class=\"cd__headline-text vid-left-enabled\"><strong>@CNNclimate on Instagram: </strong>What's working to create solutions and change habits</span><span class=\"cd__headline-icon cnn-icon\"></span></a>,\n",
       " <a href=\"https://www.cnn.com/interactive/2019/09/world/climate-change-before-after/\"><span class=\"cd__headline-text vid-left-enabled\">This is how the planet has changed over time </span><span class=\"cd__headline-icon cnn-icon\"></span></a>,\n",
       " <a href=\"/2019/07/10/world/antarctica-ice-sheet-sea-levels-trnd/index.html\"><span class=\"cd__headline-text vid-left-enabled\">Ice sheets are crumbling faster than we thought</span><span class=\"cd__headline-icon cnn-icon\"></span></a>,\n",
       " <a href=\"/2019/07/11/europe/climate-cities-report-intl-hnk/index.html\"><span class=\"cd__headline-text vid-left-enabled\">London's climate will be as warm as Barcelona's by 2050</span><span class=\"cd__headline-icon cnn-icon\"></span></a>,\n",
       " <a href=\"/2019/06/28/us/alaska-sea-ice-wxc/index.html\"><span class=\"cd__headline-text vid-left-enabled\">Sea temperatures are abnormally high in Alaska</span><span class=\"cd__headline-icon cnn-icon\"></span></a>,\n",
       " <a href=\"/2019/02/12/health/climate-change-cities-projected-temperatures-study/index.html\"><span class=\"cd__headline-text vid-left-enabled\">What will your city's weather feel like in 60 years? </span><span class=\"cd__headline-icon cnn-icon\"></span></a>,\n",
       " <a data-vr-track=\"\" href=\"https://www.greatbigstory.com/stories/the-brave-young-activist\"><span class=\"cd__headline-text vid-left-enabled\">The teen schooling world leaders on climate change</span><span class=\"cd__headline-icon cnn-icon\"></span></a>,\n",
       " <a href=\"/videos/tv/2019/04/18/iyw-small-space-living.cnn\"><span class=\"cd__headline-text vid-left-enabled\">Living big and eco-friendly in a small space</span><span class=\"cd__headline-icon cnn-icon\"></span></a>,\n",
       " <a href=\"/2019/09/28/world/youth-environment-activists-greta-thunberg-trnd/index.html\"><span class=\"cd__headline-text vid-left-enabled\">Greta Thunberg isn't alone. Meet some other young activists who are leading the environmentalist fight</span><span class=\"cd__headline-icon cnn-icon\"></span></a>,\n",
       " <a href=\"/videos/tv/2019/02/01/amanpour-greta-thunberg.cnn\"><span class=\"cd__headline-text vid-left-enabled\">Climate activist: No gray area for survival</span><span class=\"cd__headline-icon cnn-icon\"></span></a>,\n",
       " <a href=\"/2019/03/12/world/trashtag-internet-challenge-intl/index.html\"><span class=\"cd__headline-text vid-left-enabled\">#trashtag: Viral challenge sends internet on a garbage hunt</span><span class=\"cd__headline-icon cnn-icon\"></span></a>,\n",
       " <a href=\"/videos/world/2019/03/15/greta-thunberg-climate-strike.cnn\"><span class=\"cd__headline-text vid-left-enabled\">Inspiration behind global protests</span><span class=\"cd__headline-icon cnn-icon\"></span></a>,\n",
       " <a href=\"/2019/09/04/us/climate-change-science-101-basics/index.html\"><span class=\"cd__headline-text vid-left-enabled\">The science behind the climate crisis</span><span class=\"cd__headline-icon cnn-icon\"></span></a>,\n",
       " <a href=\"/videos/weather/2018/12/10/climate-change-myths-explainer-wx-ncc-orig-llr.cnn\"><span class=\"cd__headline-text vid-left-enabled\">Don't believe these climate change lies</span><span class=\"cd__headline-icon cnn-icon\"></span></a>,\n",
       " <a href=\"/videos/weather/2018/01/18/nasa-climate-change-report-2018-gray-orig-js.cnn\"><span class=\"cd__headline-text vid-left-enabled\">Undeniable climate change facts (2018)</span><span class=\"cd__headline-icon cnn-icon\"></span></a>,\n",
       " <a href=\"https://www.cnn.com/2017/02/28/us/sutter-climate-opinion-maps/index.html\"><span class=\"cd__headline-text vid-left-enabled\">The geographic guide to American climate confusion</span><span class=\"cd__headline-icon cnn-icon\"></span></a>,\n",
       " <a href=\"/2014/09/24/world/gallery/climate-change-impact/index.html\"><span class=\"cd__headline-text vid-left-enabled\">Effects of global warming around the world</span><span class=\"cd__headline-icon cnn-icon\"></span></a>,\n",
       " <a href=\"/2017/05/15/world/climate-damaging-foods/index.html\"><span class=\"cd__headline-text vid-left-enabled\">These are the most climate-damaging foods </span><span class=\"cd__headline-icon cnn-icon\"></span></a>,\n",
       " <a href=\"https://www.cnn.com/weather\"><span class=\"cd__headline-text vid-left-enabled\">Your personal forecast</span><span class=\"cd__headline-icon cnn-icon\"></span></a>,\n",
       " <a href=\"https://www.cnn.com/interactive/storm-tracker/\"><span class=\"cd__headline-text vid-left-enabled\">Follow this season's major storms</span><span class=\"cd__headline-icon cnn-icon\"></span></a>,\n",
       " <a href=\"http://www.cnn.com/specials/opinions/two-degrees\"><span class=\"cd__headline-text vid-left-enabled\">2 degrees: Key to climate change</span><span class=\"cd__headline-icon cnn-icon\"></span></a>,\n",
       " <a href=\"https://www.cnn.com/interactive/2017/11/world/greenland-global-warning/\"><span class=\"cd__headline-text vid-left-enabled\">Melting glaciers may someday flood your city</span><span class=\"cd__headline-icon cnn-icon\"></span></a>,\n",
       " <a href=\"https://www.cnn.com/interactive/2018/06/world/antarctica/\"><span class=\"cd__headline-text vid-left-enabled\">Protecting the Antarctic</span><span class=\"cd__headline-icon cnn-icon\"></span></a>,\n",
       " <a href=\"https://www.cnn.com/interactive/2018/08/world/great-barrier-reef/\"><span class=\"cd__headline-text vid-left-enabled\">Great Barrier Reef headed for 'massive death'</span><span class=\"cd__headline-icon cnn-icon\"></span></a>,\n",
       " <a href=\"https://edition.cnn.com/interactive/2020/05/africa/locusts/\"><span class=\"cd__headline-text vid-left-enabled\">New generation of hungry locusts threatens millions</span><span class=\"cd__headline-icon cnn-icon\"></span></a>,\n",
       " <a href=\"https://www.cnn.com/interactive/2018/09/world/greenland-climate-change-cnnphotos/\"><span class=\"cd__headline-text vid-left-enabled\">What it's like at the ground zero of climate change</span><span class=\"cd__headline-icon cnn-icon\"></span></a>]"
      ]
     },
     "execution_count": 37,
     "metadata": {},
     "output_type": "execute_result"
    }
   ],
   "source": [
    "url = doc.select(\".cd__headline a\")\n",
    "url"
   ]
  },
  {
   "cell_type": "code",
   "execution_count": 48,
   "id": "15eb58e2",
   "metadata": {},
   "outputs": [
    {
     "data": {
      "text/html": [
       "<div>\n",
       "<style scoped>\n",
       "    .dataframe tbody tr th:only-of-type {\n",
       "        vertical-align: middle;\n",
       "    }\n",
       "\n",
       "    .dataframe tbody tr th {\n",
       "        vertical-align: top;\n",
       "    }\n",
       "\n",
       "    .dataframe thead th {\n",
       "        text-align: right;\n",
       "    }\n",
       "</style>\n",
       "<table border=\"1\" class=\"dataframe\">\n",
       "  <thead>\n",
       "    <tr style=\"text-align: right;\">\n",
       "      <th></th>\n",
       "      <th>title</th>\n",
       "      <th>url</th>\n",
       "    </tr>\n",
       "  </thead>\n",
       "  <tbody>\n",
       "    <tr>\n",
       "      <th>0</th>\n",
       "      <td>The shocking numbers behind the Lake Mead drou...</td>\n",
       "      <td>/2021/06/17/us/lake-mead-drought-water-shortag...</td>\n",
       "    </tr>\n",
       "    <tr>\n",
       "      <th>1</th>\n",
       "      <td>The West's historic drought in 3 maps</td>\n",
       "      <td>/2021/06/17/weather/west-california-drought-ma...</td>\n",
       "    </tr>\n",
       "    <tr>\n",
       "      <th>2</th>\n",
       "      <td>An eighth of the US population is sweltering u...</td>\n",
       "      <td>/2021/06/16/weather/west-heat-wave-records-dro...</td>\n",
       "    </tr>\n",
       "    <tr>\n",
       "      <th>3</th>\n",
       "      <td>As people flee climate change on the coasts, t...</td>\n",
       "      <td>/2021/04/12/opinions/climate-migration-in-amer...</td>\n",
       "    </tr>\n",
       "    <tr>\n",
       "      <th>4</th>\n",
       "      <td>Exclusive: Companies face a financial risk fro...</td>\n",
       "      <td>/2021/06/14/investing/climate-change-disclosur...</td>\n",
       "    </tr>\n",
       "  </tbody>\n",
       "</table>\n",
       "</div>"
      ],
      "text/plain": [
       "                                               title  \\\n",
       "0  The shocking numbers behind the Lake Mead drou...   \n",
       "1              The West's historic drought in 3 maps   \n",
       "2  An eighth of the US population is sweltering u...   \n",
       "3  As people flee climate change on the coasts, t...   \n",
       "4  Exclusive: Companies face a financial risk fro...   \n",
       "\n",
       "                                                 url  \n",
       "0  /2021/06/17/us/lake-mead-drought-water-shortag...  \n",
       "1  /2021/06/17/weather/west-california-drought-ma...  \n",
       "2  /2021/06/16/weather/west-heat-wave-records-dro...  \n",
       "3  /2021/04/12/opinions/climate-migration-in-amer...  \n",
       "4  /2021/06/14/investing/climate-change-disclosur...  "
      ]
     },
     "execution_count": 48,
     "metadata": {},
     "output_type": "execute_result"
    }
   ],
   "source": [
    "# Start with an empty list\n",
    "rows = []\n",
    "\n",
    "for title in titles:\n",
    "    # Go through each title, building a dictionary\n",
    "    # with a 'title' and a 'url'\n",
    "    row = {}\n",
    "    \n",
    "    # title\n",
    "    row['title'] = title.text.strip()\n",
    "     # link\n",
    "    row['url'] = title.a['href']\n",
    "    \n",
    "    # Then add it to our list of rows\n",
    "    rows.append(row)\n",
    "\n",
    "# then we're going to make a dataframe from it!!!\n",
    "df = pd.DataFrame(rows)\n",
    "df.head()"
   ]
  },
  {
   "cell_type": "code",
   "execution_count": 49,
   "id": "aba6bd8f",
   "metadata": {},
   "outputs": [],
   "source": [
    "df.to_csv(\"cnn.csv\", index=False)"
   ]
  },
  {
   "cell_type": "code",
   "execution_count": null,
   "id": "d15dbb66",
   "metadata": {},
   "outputs": [],
   "source": []
  }
 ],
 "metadata": {
  "kernelspec": {
   "display_name": "Python 3 (ipykernel)",
   "language": "python",
   "name": "python3"
  },
  "language_info": {
   "codemirror_mode": {
    "name": "ipython",
    "version": 3
   },
   "file_extension": ".py",
   "mimetype": "text/x-python",
   "name": "python",
   "nbconvert_exporter": "python",
   "pygments_lexer": "ipython3",
   "version": "3.10.3"
  }
 },
 "nbformat": 4,
 "nbformat_minor": 5
}
